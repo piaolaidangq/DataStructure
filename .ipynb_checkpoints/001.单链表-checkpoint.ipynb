{
 "cells": [
  {
   "cell_type": "markdown",
   "metadata": {},
   "source": [
    "### 单链表"
   ]
  },
  {
   "cell_type": "code",
   "execution_count": 15,
   "metadata": {},
   "outputs": [],
   "source": [
    "class Node:\n",
    "    '''节点 '''\n",
    "    def __init__(self, elem=None):\n",
    "        self.elem = elem\n",
    "        self.next = None\n",
    "\n",
    "class SingleLinkList:\n",
    "    '''单链表'''\n",
    "    def __init__(self, node=None):\n",
    "        self.__head = node\n",
    "\n",
    "    def is_empty(self):\n",
    "        '''链表是否为空'''\n",
    "        return self.__head == None\n",
    "\n",
    "    def length(self):\n",
    "        '''链表长度'''\n",
    "        cur = self.__head    # cur 游标，用来移动遍历节点\n",
    "        count = 0            # count 记数\n",
    "        while cur != None:\n",
    "            count += 1\n",
    "            cur = cur.next\n",
    "        return count\n",
    "\n",
    "    def travel(self):\n",
    "        '''遍历整个链表'''\n",
    "        cur = self.__head\n",
    "        while cur != None:\n",
    "            print(cur.elem, end=' ')\n",
    "            cur = cur.next\n",
    "        print()\n",
    "\n",
    "    def add(self, item):\n",
    "        '''链表头部添加元素，头插法'''\n",
    "        cur = Node(item)\n",
    "        cur.next = self.__head\n",
    "        self.__head = cur\n",
    "\n",
    "    def append(self, item):\n",
    "        '''链表尾部添加元素，尾插法'''\n",
    "        node = Node(item)\n",
    "        if self.is_empty():\n",
    "            self.__head = node\n",
    "        else:\n",
    "            cur = self.__head\n",
    "            while cur.next != None:\n",
    "                cur = cur.next\n",
    "            cur.next = node\n",
    "\n",
    "    def insert(self, pos, item):\n",
    "        '''指定位置添加元素\n",
    "        :param pos 位置，从 0 开始\n",
    "        '''\n",
    "        if pos <= 0:\n",
    "            self.add(item)\n",
    "        elif pos > self.length()-1:\n",
    "            self.append(item)\n",
    "        else:\n",
    "            node = Node(item)\n",
    "            pre = self.__head\n",
    "            count = 0\n",
    "            while count < pos-1:\n",
    "                count += 1\n",
    "                pre = pre.next\n",
    "            node.next = pre.next   # 循环退出后，pre指向pos-1位置\n",
    "            pre.next = node\n",
    "\n",
    "    def remove(self, item):\n",
    "        '''删除节点'''\n",
    "        cur = self.__head\n",
    "        pre = None\n",
    "        while cur != None:\n",
    "            if cur.elem == item:\n",
    "                if cur == self.__head:      # 判断该节点是否为头结点\n",
    "                    self.__head = cur.next\n",
    "                else:\n",
    "                    pre.next = cur.next\n",
    "                break\n",
    "            else:\n",
    "                pre = cur\n",
    "                cur = cur.next\n",
    "\n",
    "    def search(self, item):\n",
    "        '''查找节点是否存在'''\n",
    "        cur = self.__head\n",
    "        while cur != None:\n",
    "            if cur.elem == item:\n",
    "                return True\n",
    "            else:\n",
    "                cur = cur.next\n",
    "        return False\n",
    "    \n",
    "    def find_head(self):\n",
    "        return self.__head"
   ]
  },
  {
   "cell_type": "code",
   "execution_count": 17,
   "metadata": {},
   "outputs": [
    {
     "name": "stdout",
     "output_type": "stream",
     "text": [
      "1\n",
      "2\n",
      "3\n"
     ]
    }
   ],
   "source": [
    "def print_val(head):\n",
    "    while head:\n",
    "        print(head.elem)\n",
    "        head = head.next\n",
    "test = SingleLinkList()\n",
    "test.append(1)\n",
    "test.append(2)\n",
    "test.append(3)\n",
    "# print_val(test._SingleLinkList__head)    # 访问类的隐藏成员变量或方法\n",
    "print_val(test.find_head())"
   ]
  },
  {
   "cell_type": "code",
   "execution_count": 19,
   "metadata": {},
   "outputs": [],
   "source": [
    "sll = SingleLinkList()    # 创建单链表"
   ]
  },
  {
   "cell_type": "code",
   "execution_count": 20,
   "metadata": {},
   "outputs": [
    {
     "data": {
      "text/plain": [
       "True"
      ]
     },
     "execution_count": 20,
     "metadata": {},
     "output_type": "execute_result"
    }
   ],
   "source": [
    "sll.is_empty()    # 链表是否为空"
   ]
  },
  {
   "cell_type": "code",
   "execution_count": 21,
   "metadata": {},
   "outputs": [
    {
     "data": {
      "text/plain": [
       "0"
      ]
     },
     "execution_count": 21,
     "metadata": {},
     "output_type": "execute_result"
    }
   ],
   "source": [
    "sll.length()      # 链表长度"
   ]
  },
  {
   "cell_type": "code",
   "execution_count": 22,
   "metadata": {},
   "outputs": [
    {
     "name": "stdout",
     "output_type": "stream",
     "text": [
      "1 2 3 4 5 6 \n"
     ]
    }
   ],
   "source": [
    "# 将数字1 2 3 4 5 6从尾部插入链表\n",
    "sll.append(1)\n",
    "sll.append(2)\n",
    "sll.append(3)\n",
    "sll.append(4)\n",
    "sll.append(5)\n",
    "sll.append(6) \n",
    "sll.travel()     # 遍历链表"
   ]
  },
  {
   "cell_type": "code",
   "execution_count": 23,
   "metadata": {},
   "outputs": [
    {
     "name": "stdout",
     "output_type": "stream",
     "text": [
      "10 1 2 3 4 5 6 \n"
     ]
    }
   ],
   "source": [
    "sll.add(10)      # 将数字10从头部插入链表\n",
    "sll.travel()"
   ]
  },
  {
   "cell_type": "code",
   "execution_count": 24,
   "metadata": {},
   "outputs": [
    {
     "name": "stdout",
     "output_type": "stream",
     "text": [
      "20 10 1 2 3 4 5 6 \n"
     ]
    }
   ],
   "source": [
    "sll.insert(-1, 20)      # 将数字20在链表位置-1处插入（位置小于等于0时从链表头部插入）\n",
    "sll.travel()"
   ]
  },
  {
   "cell_type": "code",
   "execution_count": 25,
   "metadata": {},
   "outputs": [
    {
     "name": "stdout",
     "output_type": "stream",
     "text": [
      "20 10 30 1 2 3 4 5 6 \n"
     ]
    }
   ],
   "source": [
    "sll.insert(2, 30)      # 将数字30在链表位置2处插入\n",
    "sll.travel()"
   ]
  },
  {
   "cell_type": "code",
   "execution_count": 26,
   "metadata": {},
   "outputs": [
    {
     "name": "stdout",
     "output_type": "stream",
     "text": [
      "20 10 30 1 2 3 4 5 6 40 \n"
     ]
    }
   ],
   "source": [
    "sll.insert(100, 40)    # 将数字40在链表位置100处插入（位置超出链表长度时从尾部插入）\n",
    "sll.travel()"
   ]
  },
  {
   "cell_type": "code",
   "execution_count": 27,
   "metadata": {},
   "outputs": [
    {
     "name": "stdout",
     "output_type": "stream",
     "text": [
      "10 30 1 2 3 4 5 6 40 \n"
     ]
    }
   ],
   "source": [
    "sll.remove(20)         # 将数字20从链表中删除  \n",
    "sll.travel()"
   ]
  },
  {
   "cell_type": "code",
   "execution_count": 28,
   "metadata": {},
   "outputs": [
    {
     "name": "stdout",
     "output_type": "stream",
     "text": [
      "10 30 1 2 3 4 5 6 \n"
     ]
    }
   ],
   "source": [
    "sll.remove(40)        # 将数字40从链表中删除   \n",
    "sll.travel()"
   ]
  },
  {
   "cell_type": "code",
   "execution_count": 33,
   "metadata": {},
   "outputs": [
    {
     "name": "stdout",
     "output_type": "stream",
     "text": [
      "10 30 1 2 4 5 6 \n"
     ]
    }
   ],
   "source": [
    "sll.remove(3)         # 将数字3从链表中删除 \n",
    "sll.travel()"
   ]
  },
  {
   "cell_type": "code",
   "execution_count": 34,
   "metadata": {},
   "outputs": [
    {
     "data": {
      "text/plain": [
       "True"
      ]
     },
     "execution_count": 34,
     "metadata": {},
     "output_type": "execute_result"
    }
   ],
   "source": [
    "sll.search(30)        # 数字30是否存在于链表中"
   ]
  },
  {
   "cell_type": "code",
   "execution_count": 35,
   "metadata": {},
   "outputs": [
    {
     "data": {
      "text/plain": [
       "False"
      ]
     },
     "execution_count": 35,
     "metadata": {},
     "output_type": "execute_result"
    }
   ],
   "source": [
    "sll.search(40)       # 数字40是否存在于链表中"
   ]
  },
  {
   "cell_type": "code",
   "execution_count": 36,
   "metadata": {},
   "outputs": [
    {
     "data": {
      "text/plain": [
       "False"
      ]
     },
     "execution_count": 36,
     "metadata": {},
     "output_type": "execute_result"
    }
   ],
   "source": [
    "sll.is_empty()       # 链表是否为空"
   ]
  },
  {
   "cell_type": "code",
   "execution_count": 37,
   "metadata": {},
   "outputs": [
    {
     "data": {
      "text/plain": [
       "7"
      ]
     },
     "execution_count": 37,
     "metadata": {},
     "output_type": "execute_result"
    }
   ],
   "source": [
    "sll.length()         # 链表长度"
   ]
  },
  {
   "cell_type": "code",
   "execution_count": null,
   "metadata": {},
   "outputs": [],
   "source": []
  },
  {
   "cell_type": "code",
   "execution_count": null,
   "metadata": {},
   "outputs": [],
   "source": []
  }
 ],
 "metadata": {
  "kernelspec": {
   "display_name": "Python 3",
   "language": "python",
   "name": "python3"
  },
  "language_info": {
   "codemirror_mode": {
    "name": "ipython",
    "version": 3
   },
   "file_extension": ".py",
   "mimetype": "text/x-python",
   "name": "python",
   "nbconvert_exporter": "python",
   "pygments_lexer": "ipython3",
   "version": "3.7.0"
  }
 },
 "nbformat": 4,
 "nbformat_minor": 2
}
