{
 "cells": [
  {
   "cell_type": "code",
   "execution_count": 1,
   "metadata": {},
   "outputs": [],
   "source": [
    "class Node:\n",
    "    '''节点'''\n",
    "    def __init__(self, elem=None):\n",
    "        self.elem = elem\n",
    "        self.next = None\n",
    "\n",
    "class SingleCycleLinkList:\n",
    "    '''单向循环链表'''\n",
    "    def __init__(self, node=None):\n",
    "        self.__head = node\n",
    "        if node:\n",
    "            node.next = node\n",
    "\n",
    "    def is_empty(self):\n",
    "        '''链表是否为空'''\n",
    "        return self.__head == None\n",
    "\n",
    "    def length(self):\n",
    "        '''链表长度'''\n",
    "        if self.is_empty():\n",
    "            return 0\n",
    "        cur = self.__head    # cur 游标，用来移动遍历节点\n",
    "        count = 1            # count 记数\n",
    "        while cur.next != self.__head:\n",
    "            count += 1\n",
    "            cur = cur.next\n",
    "        return count\n",
    "\n",
    "    def travel(self):\n",
    "        '''遍历整个链表'''\n",
    "        if self.is_empty():\n",
    "            return\n",
    "        cur = self.__head\n",
    "        while cur.next != self.__head:\n",
    "            print(cur.elem, end=' ')\n",
    "            cur = cur.next\n",
    "        print(cur.elem)\n",
    "\n",
    "    def add(self, item):\n",
    "        '''链表头部添加元素，头插法'''\n",
    "        node = Node(item)\n",
    "        if self.is_empty():\n",
    "            self.__head = node\n",
    "            node.next = node\n",
    "        else:\n",
    "            cur = self.__head\n",
    "            while cur.next != self.__head:\n",
    "                cur = cur.next\n",
    "            node.next = self.__head    \n",
    "            self.__head = node\n",
    "            cur.next = self.__head    # 循环退出后，cur指向尾节点，或cur.next = node\n",
    "\n",
    "    def append(self, item):\n",
    "        '''链表尾部添加元素，尾插法'''\n",
    "        node = Node(item)\n",
    "        if self.is_empty():\n",
    "            self.__head = node\n",
    "            node.next = node\n",
    "        else:\n",
    "            cur = self.__head\n",
    "            while cur.next != self.__head:\n",
    "                cur = cur.next\n",
    "            node.next = self.__head   # 或node.next = cur.next\n",
    "            cur.next = node      \n",
    "\n",
    "    def insert(self, pos, item):\n",
    "        '''指定位置添加元素    \n",
    "        :param pos 位置，从0开始\n",
    "        '''\n",
    "        if pos <= 0:\n",
    "            self.add(item)\n",
    "        elif pos > self.length()-1:\n",
    "            self.append(item)\n",
    "        else:\n",
    "            node = Node(item)\n",
    "            pre = self.__head\n",
    "            count = 0\n",
    "            while count < pos-1:\n",
    "                count += 1\n",
    "                pre = pre.next\n",
    "            node.next = pre.next   # 循环退出后，pre指向pos-1位置\n",
    "            pre.next = node\n",
    "\n",
    "    def remove(self, item):\n",
    "        '''删除节点'''\n",
    "        if self.is_empty():\n",
    "            return\n",
    "        cur = self.__head\n",
    "        pre = None\n",
    "        while cur.next != self.__head:\n",
    "            if cur.elem == item:\n",
    "                if cur == self.__head:   # 判断该节点是否是头结点\n",
    "                    # 找尾节点\n",
    "                    rear = self.__head\n",
    "                    while rear.next != self.__head:\n",
    "                        rear = rear.next\n",
    "                    self.__head = cur.next\n",
    "                    rear.next = self.__head\n",
    "                else:\n",
    "                    pre.next = cur.next  # 中间结点\n",
    "                return\n",
    "            else:\n",
    "                pre = cur\n",
    "                cur = cur.next\n",
    "        if cur.elem == item:            # 循环退出后，cur指向尾节点，判断该节点是否为尾节点\n",
    "            if cur == self.__head:      # 判断链表是否只有一个节点\n",
    "                self.__head = None\n",
    "            else:\n",
    "                pre.next = self.__head  # 或pre.next = cur.next\n",
    "\n",
    "    def search(self, item):\n",
    "        '''查找节点是否存在'''\n",
    "        if self.is_empty():\n",
    "            return False\n",
    "        cur = self.__head\n",
    "        while cur.next != self.__head:\n",
    "            if cur.elem == item:\n",
    "                return True\n",
    "            else:\n",
    "                cur = cur.next\n",
    "        if cur.elem == item:\n",
    "            return True\n",
    "        return False"
   ]
  },
  {
   "cell_type": "code",
   "execution_count": 2,
   "metadata": {},
   "outputs": [],
   "source": [
    "scll = SingleCycleLinkList()    # 创建单向循环链表"
   ]
  },
  {
   "cell_type": "code",
   "execution_count": 3,
   "metadata": {},
   "outputs": [
    {
     "data": {
      "text/plain": [
       "True"
      ]
     },
     "execution_count": 3,
     "metadata": {},
     "output_type": "execute_result"
    }
   ],
   "source": [
    "scll.is_empty()     # 链表是否为空"
   ]
  },
  {
   "cell_type": "code",
   "execution_count": 4,
   "metadata": {},
   "outputs": [
    {
     "data": {
      "text/plain": [
       "0"
      ]
     },
     "execution_count": 4,
     "metadata": {},
     "output_type": "execute_result"
    }
   ],
   "source": [
    "scll.length()      # 链表长度"
   ]
  },
  {
   "cell_type": "code",
   "execution_count": 5,
   "metadata": {},
   "outputs": [
    {
     "name": "stdout",
     "output_type": "stream",
     "text": [
      "1 2 3 4 5 6\n"
     ]
    }
   ],
   "source": [
    "# 将数字1 2 3 4 5 6从尾部插入链表\n",
    "scll.append(1)\n",
    "scll.append(2)\n",
    "scll.append(3)\n",
    "scll.append(4)\n",
    "scll.append(5)\n",
    "scll.append(6)        \n",
    "scll.travel()    # 遍历链表"
   ]
  },
  {
   "cell_type": "code",
   "execution_count": 6,
   "metadata": {},
   "outputs": [
    {
     "name": "stdout",
     "output_type": "stream",
     "text": [
      "10 1 2 3 4 5 6\n"
     ]
    }
   ],
   "source": [
    "scll.add(10)    # 将数字10从头部插入链表\n",
    "scll.travel()"
   ]
  },
  {
   "cell_type": "code",
   "execution_count": 7,
   "metadata": {},
   "outputs": [
    {
     "name": "stdout",
     "output_type": "stream",
     "text": [
      "20 10 1 2 3 4 5 6\n"
     ]
    }
   ],
   "source": [
    "scll.insert(-1, 20)     # 将数字20在链表位置-1处插入（位置小于等于0时从链表头部插入）\n",
    "scll.travel()"
   ]
  },
  {
   "cell_type": "code",
   "execution_count": 8,
   "metadata": {},
   "outputs": [
    {
     "name": "stdout",
     "output_type": "stream",
     "text": [
      "20 10 30 1 2 3 4 5 6\n"
     ]
    }
   ],
   "source": [
    "scll.insert(2, 30)      # 将数字30在链表位置2处插入\n",
    "scll.travel()"
   ]
  },
  {
   "cell_type": "code",
   "execution_count": 9,
   "metadata": {},
   "outputs": [
    {
     "name": "stdout",
     "output_type": "stream",
     "text": [
      "20 10 30 1 2 3 4 5 6 40\n"
     ]
    }
   ],
   "source": [
    "scll.insert(100, 40)    # 将数字40在链表位置100处插入（位置超出链表长度时从尾部插入）\n",
    "scll.travel()"
   ]
  },
  {
   "cell_type": "code",
   "execution_count": 10,
   "metadata": {},
   "outputs": [
    {
     "name": "stdout",
     "output_type": "stream",
     "text": [
      "10 30 1 2 3 4 5 6 40\n"
     ]
    }
   ],
   "source": [
    "scll.remove(20)        # 将数字20从链表中删除  \n",
    "scll.travel()"
   ]
  },
  {
   "cell_type": "code",
   "execution_count": 12,
   "metadata": {},
   "outputs": [
    {
     "name": "stdout",
     "output_type": "stream",
     "text": [
      "10 30 1 2 3 4 5 6\n"
     ]
    }
   ],
   "source": [
    "scll.remove(40)        # 将数字40从链表中删除   \n",
    "scll.travel()"
   ]
  },
  {
   "cell_type": "code",
   "execution_count": 13,
   "metadata": {},
   "outputs": [
    {
     "name": "stdout",
     "output_type": "stream",
     "text": [
      "10 30 1 2 4 5 6\n"
     ]
    }
   ],
   "source": [
    "scll.remove(3)         # 将数字3从链表中删除 \n",
    "scll.travel()"
   ]
  },
  {
   "cell_type": "code",
   "execution_count": 14,
   "metadata": {},
   "outputs": [
    {
     "data": {
      "text/plain": [
       "True"
      ]
     },
     "execution_count": 14,
     "metadata": {},
     "output_type": "execute_result"
    }
   ],
   "source": [
    "scll.search(30)        # 数字30是否存在于链表中"
   ]
  },
  {
   "cell_type": "code",
   "execution_count": 15,
   "metadata": {},
   "outputs": [
    {
     "data": {
      "text/plain": [
       "False"
      ]
     },
     "execution_count": 15,
     "metadata": {},
     "output_type": "execute_result"
    }
   ],
   "source": [
    "scll.search(40)        # 数字40是否存在于链表中"
   ]
  },
  {
   "cell_type": "code",
   "execution_count": 16,
   "metadata": {},
   "outputs": [
    {
     "data": {
      "text/plain": [
       "False"
      ]
     },
     "execution_count": 16,
     "metadata": {},
     "output_type": "execute_result"
    }
   ],
   "source": [
    "scll.is_empty()       # 链表是否为空"
   ]
  },
  {
   "cell_type": "code",
   "execution_count": 17,
   "metadata": {},
   "outputs": [
    {
     "data": {
      "text/plain": [
       "7"
      ]
     },
     "execution_count": 17,
     "metadata": {},
     "output_type": "execute_result"
    }
   ],
   "source": [
    "scll.length()         # 链表长度"
   ]
  },
  {
   "cell_type": "code",
   "execution_count": null,
   "metadata": {},
   "outputs": [],
   "source": []
  }
 ],
 "metadata": {
  "kernelspec": {
   "display_name": "Python 3",
   "language": "python",
   "name": "python3"
  },
  "language_info": {
   "codemirror_mode": {
    "name": "ipython",
    "version": 3
   },
   "file_extension": ".py",
   "mimetype": "text/x-python",
   "name": "python",
   "nbconvert_exporter": "python",
   "pygments_lexer": "ipython3",
   "version": "3.7.0"
  }
 },
 "nbformat": 4,
 "nbformat_minor": 2
}
