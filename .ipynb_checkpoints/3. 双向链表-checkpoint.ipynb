{
 "cells": [
  {
   "cell_type": "code",
   "execution_count": 4,
   "metadata": {},
   "outputs": [],
   "source": [
    "class Node:\n",
    "    '''节点'''\n",
    "    def __init__(self, elem=None):\n",
    "        self.elem = elem\n",
    "        self.next = None\n",
    "        self.prev = None\n",
    "\n",
    "class DoubleLinkList:\n",
    "    '''双向链表'''\n",
    "    def __init__(self, node=None):\n",
    "        self.__head = node\n",
    "\n",
    "    def is_empty(self):\n",
    "        '''链表是否为空'''\n",
    "        return self.__head == None\n",
    "\n",
    "    def length(self):\n",
    "        '''链表长度'''\n",
    "        cur = self.__head    # cur 游标，用来移动遍历节点\n",
    "        count = 0            # count 记数\n",
    "        while cur != None:\n",
    "            count += 1\n",
    "            cur = cur.next\n",
    "        return count\n",
    "\n",
    "    def travel(self):\n",
    "        '''遍历整个链表'''\n",
    "        cur = self.__head\n",
    "        while cur != None:\n",
    "            print(cur.elem, end=' ')\n",
    "            cur = cur.next\n",
    "        print()\n",
    "\n",
    "    def add(self, item):\n",
    "        '''链表头部添加元素，头插法'''\n",
    "        node = Node(item)\n",
    "        node.next = self.__head\n",
    "        self.__head = node\n",
    "        node.next.prev = node\n",
    "\n",
    "    def append(self, item):\n",
    "        '''链表尾部添加元素，尾插法'''\n",
    "        node = Node(item)\n",
    "        if self.is_empty():\n",
    "            self.__head = node\n",
    "        else:\n",
    "            cur = self.__head\n",
    "            while cur.next != None:\n",
    "                cur = cur.next\n",
    "            cur.next = node\n",
    "            node.prev = cur\n",
    "\n",
    "    def insert(self, pos, item):\n",
    "        '''指定位置添加元素\n",
    "        :param pos 位置，从0开始\n",
    "        '''\n",
    "        if pos <= 0:\n",
    "            self.add(item)\n",
    "        elif pos > self.length()-1:\n",
    "            self.append(item)\n",
    "        else:\n",
    "            cur = self.__head\n",
    "            count = 0\n",
    "            while count < pos:\n",
    "                count += 1\n",
    "                cur = cur.next\n",
    "            node = Node(item) \n",
    "            node.next = cur        # 当循环退出后，cur指向pos位置\n",
    "            node.prev = cur.prev\n",
    "            cur.prev.next = node\n",
    "            cur.prev = node\n",
    "\n",
    "    def remove(self, item):\n",
    "        '''删除节点'''\n",
    "        cur = self.__head\n",
    "        while cur != None: \n",
    "            if cur.elem == item:     \n",
    "                if cur == self.__head:      # 判断该节点是否是头结点\n",
    "                    self.__head = cur.next\n",
    "                    if cur.next:            # 判断链表是否只有一个节点\n",
    "                        cur.next.prev = None\n",
    "                else:\n",
    "                    cur.prev.next = cur.next\n",
    "                    if cur.next:\n",
    "                        cur.next.prev = cur.prev\n",
    "                break\n",
    "            else:\n",
    "                cur = cur.next\n",
    "\n",
    "    def search(self, item):\n",
    "        '''查找节点是否存在'''\n",
    "        cur = self.__head\n",
    "        while cur != None:\n",
    "            if cur.elem == item:\n",
    "                return True\n",
    "            else:\n",
    "                cur = cur.next\n",
    "        return False"
   ]
  },
  {
   "cell_type": "code",
   "execution_count": 5,
   "metadata": {},
   "outputs": [],
   "source": [
    "dll = DoubleLinkList()     # 创建双向链表"
   ]
  },
  {
   "cell_type": "code",
   "execution_count": 6,
   "metadata": {},
   "outputs": [
    {
     "data": {
      "text/plain": [
       "True"
      ]
     },
     "execution_count": 6,
     "metadata": {},
     "output_type": "execute_result"
    }
   ],
   "source": [
    "dll.is_empty()     # 链表是否为空"
   ]
  },
  {
   "cell_type": "code",
   "execution_count": null,
   "metadata": {},
   "outputs": [],
   "source": [
    "dll.length()      # 链表长度"
   ]
  }
 ],
 "metadata": {
  "kernelspec": {
   "display_name": "Python 3",
   "language": "python",
   "name": "python3"
  },
  "language_info": {
   "codemirror_mode": {
    "name": "ipython",
    "version": 3
   },
   "file_extension": ".py",
   "mimetype": "text/x-python",
   "name": "python",
   "nbconvert_exporter": "python",
   "pygments_lexer": "ipython3",
   "version": "3.7.0"
  }
 },
 "nbformat": 4,
 "nbformat_minor": 2
}
