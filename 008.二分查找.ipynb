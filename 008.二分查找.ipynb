{
 "cells": [
  {
   "cell_type": "markdown",
   "metadata": {},
   "source": [
    "### 1. 非递归实现二分查找"
   ]
  },
  {
   "cell_type": "code",
   "execution_count": 4,
   "metadata": {},
   "outputs": [
    {
     "name": "stdout",
     "output_type": "stream",
     "text": [
      "False\n",
      "True\n"
     ]
    }
   ],
   "source": [
    "def binary_search(alist, item):\n",
    "    first = 0\n",
    "    last = len(alist) - 1\n",
    "    while first <= last:\n",
    "        mid_point = (first+last)//2\n",
    "        if alist[mid_point] == item:\n",
    "            return True\n",
    "        elif item < alist[mid_point]:\n",
    "            last = mid_point - 1\n",
    "        else:\n",
    "            first = mid_point + 1\n",
    "    return False\n",
    "\n",
    "testlist = [0, 1, 2, 8, 13, 17, 19, 32, 42]\n",
    "print(binary_search(testlist, 3))\n",
    "print(binary_search(testlist, 13))"
   ]
  },
  {
   "cell_type": "markdown",
   "metadata": {},
   "source": [
    "### 2. 递归实现二分查找"
   ]
  },
  {
   "cell_type": "code",
   "execution_count": 5,
   "metadata": {},
   "outputs": [
    {
     "name": "stdout",
     "output_type": "stream",
     "text": [
      "False\n",
      "True\n"
     ]
    }
   ],
   "source": [
    "def binary_search2(alist, item):\n",
    "    if len(alist) == 0:\n",
    "        return False\n",
    "    else:\n",
    "        mid_point = len(alist)//2\n",
    "        if alist[mid_point] == item:\n",
    "            return True\n",
    "        else:\n",
    "            if item < alist[mid_point]:\n",
    "                return binary_search2(alist[:mid_point], item)\n",
    "            else:\n",
    "                return binary_search2(alist[mid_point+1:], item)\n",
    "\n",
    "testlist2 = [0, 1, 2, 8, 13, 17, 19, 32, 42]\n",
    "print(binary_search2(testlist2, 3))\n",
    "print(binary_search2(testlist2, 13))"
   ]
  },
  {
   "cell_type": "code",
   "execution_count": null,
   "metadata": {},
   "outputs": [],
   "source": []
  }
 ],
 "metadata": {
  "kernelspec": {
   "display_name": "Python 3",
   "language": "python",
   "name": "python3"
  },
  "language_info": {
   "codemirror_mode": {
    "name": "ipython",
    "version": 3
   },
   "file_extension": ".py",
   "mimetype": "text/x-python",
   "name": "python",
   "nbconvert_exporter": "python",
   "pygments_lexer": "ipython3",
   "version": "3.7.0"
  }
 },
 "nbformat": 4,
 "nbformat_minor": 2
}
