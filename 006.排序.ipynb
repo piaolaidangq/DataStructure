{
 "cells": [
  {
   "cell_type": "markdown",
   "metadata": {},
   "source": [
    "### 1. 冒泡排序"
   ]
  },
  {
   "cell_type": "code",
   "execution_count": 1,
   "metadata": {},
   "outputs": [
    {
     "name": "stdout",
     "output_type": "stream",
     "text": [
      "[2, 3, 4, 5, 15, 19, 26, 27, 36, 38, 44, 46, 47, 48, 50]\n"
     ]
    }
   ],
   "source": [
    "def bubble_sort(alist):\n",
    "    '''冒泡排序'''\n",
    "    for i in range(len(alist)-1, 0, -1):   # i表示每次遍历需要比较的次数，逐渐减小\n",
    "        for j in range(i):\n",
    "            if alist[j] > alist[j + 1]:\n",
    "                alist[j], alist[j + 1] = alist[j + 1], alist[j]\n",
    "        \n",
    "alist = [3, 44, 38, 5, 47, 15, 36, 26, 27, 2, 46, 4, 19, 50, 48]\n",
    "bubble_sort(alist)\n",
    "print(alist)"
   ]
  },
  {
   "cell_type": "code",
   "execution_count": 2,
   "metadata": {},
   "outputs": [
    {
     "name": "stdout",
     "output_type": "stream",
     "text": [
      "[2, 3, 4, 5, 15, 19, 26, 27, 36, 38, 44, 46, 47, 48, 50]\n"
     ]
    }
   ],
   "source": [
    "def bubble_sort2(alist):\n",
    "    '''冒泡排序优化'''\n",
    "    for i in range(len(alist)-1, 0, -1):\n",
    "        count = 0        # 记录交换次数\n",
    "        for j in range(i):\n",
    "            if alist[j] > alist[j + 1]:\n",
    "                alist[j], alist[j + 1] = alist[j + 1], alist[j]\n",
    "                count += 1\n",
    "        if count == 0:   # 若某次遍历中无交换，则不用再比较\n",
    "            return\n",
    "        \n",
    "alist2 = [3, 44, 38, 5, 47, 15, 36, 26, 27, 2, 46, 4, 19, 50, 48]\n",
    "bubble_sort2(alist2)\n",
    "print(alist2)"
   ]
  },
  {
   "cell_type": "markdown",
   "metadata": {},
   "source": [
    "### 2. 选择排序"
   ]
  },
  {
   "cell_type": "code",
   "execution_count": 3,
   "metadata": {},
   "outputs": [
    {
     "name": "stdout",
     "output_type": "stream",
     "text": [
      "[2, 3, 4, 5, 15, 19, 26, 27, 36, 38, 44, 46, 47, 48, 50]\n"
     ]
    }
   ],
   "source": [
    "def selection_sort(alist):\n",
    "    '''选择排序'''\n",
    "    n = len(alist)\n",
    "    for i in range(n-1):               # n-1次选择操作\n",
    "        min_index = i                   # 最小值位置\n",
    "        for j in range(i + 1, n):      # 从i+1位置到末尾选择出最小数字\n",
    "            for j in range(i + 1, n):\n",
    "                if alist[j] < alist[min_index]:\n",
    "                    min_index = j\n",
    "        if min_index != i:             # 若选择出的数字不在正确位置，则进行交换\n",
    "            alist[i], alist[min_index] = alist[min_index], alist[i]\n",
    "\n",
    "alist = [3, 44, 38, 5, 47, 15, 36, 26, 27, 2, 46, 4, 19, 50, 48]\n",
    "selection_sort(alist)\n",
    "print(alist)"
   ]
  },
  {
   "cell_type": "markdown",
   "metadata": {},
   "source": [
    "### 3. 插入排序"
   ]
  },
  {
   "cell_type": "code",
   "execution_count": 4,
   "metadata": {},
   "outputs": [
    {
     "name": "stdout",
     "output_type": "stream",
     "text": [
      "[2, 3, 4, 5, 15, 19, 26, 27, 36, 38, 44, 46, 47, 48, 50]\n"
     ]
    }
   ],
   "source": [
    "def insert_sort(alist):\n",
    "    '''插入排序'''\n",
    "    for i in range(1, len(alist)):   # 从第2个位置，即下标为1的元素开始向前插入\n",
    "        for j in range(i, 0, -1):    # 从第i个元素开始向前比较，若小于前一个元素，则交换位置（向前插一位）\n",
    "            if alist[j] < alist[j - 1]:\n",
    "                alist[j], alist[j - 1] = alist[j - 1], alist[j]\n",
    "\n",
    "alist = [3, 44, 38, 5, 47, 15, 36, 26, 27, 2, 46, 4, 19, 50, 48]\n",
    "insert_sort(alist)\n",
    "print(alist)"
   ]
  },
  {
   "cell_type": "code",
   "execution_count": 5,
   "metadata": {},
   "outputs": [
    {
     "name": "stdout",
     "output_type": "stream",
     "text": [
      "[2, 3, 4, 5, 15, 19, 26, 27, 36, 38, 44, 46, 47, 48, 50]\n"
     ]
    }
   ],
   "source": [
    "def insert_sort2(alist):\n",
    "    '''插入排序优化'''\n",
    "    for i in range(1, len(alist)):\n",
    "        for j in range(i, 0, -1):\n",
    "            if alist[j] < alist[j - 1]:\n",
    "                alist[j], alist[j - 1] = alist[j - 1], alist[j]\n",
    "            else:       # 当前数字大于等于前一个数字，则不再进行比较\n",
    "                break\n",
    "\n",
    "alist2 = [3, 44, 38, 5, 47, 15, 36, 26, 27, 2, 46, 4, 19, 50, 48]\n",
    "insert_sort(alist2)\n",
    "print(alist2)"
   ]
  },
  {
   "cell_type": "markdown",
   "metadata": {},
   "source": [
    "### 4. 希尔排序"
   ]
  },
  {
   "cell_type": "code",
   "execution_count": 9,
   "metadata": {},
   "outputs": [
    {
     "name": "stdout",
     "output_type": "stream",
     "text": [
      "[2, 3, 4, 5, 15, 19, 26, 27, 36, 38, 44, 46, 47, 48, 50]\n"
     ]
    }
   ],
   "source": [
    "def shell_sort(alist):\n",
    "    '''希尔排序'''\n",
    "    n = len(alist)\n",
    "    gap = n // 2          # 初始步长\n",
    "    while gap > 0:       # 按步长进行插入排序\n",
    "        for i in range(gap, n):\n",
    "            j = i\n",
    "            while j >= gap and alist[j-gap] > alist[j]:          # 插入排序\n",
    "                alist[j - gap], alist[j] = alist[j], alist[j-gap]\n",
    "                j -= gap\n",
    "        gap = gap // 2    # 更新步长\n",
    "\n",
    "alist = [3, 44, 38, 5, 47, 15, 36, 26, 27, 2, 46, 4, 19, 50, 48]\n",
    "shell_sort(alist)\n",
    "print(alist)"
   ]
  },
  {
   "cell_type": "code",
   "execution_count": 10,
   "metadata": {},
   "outputs": [
    {
     "name": "stdout",
     "output_type": "stream",
     "text": [
      "[2, 3, 4, 5, 15, 19, 26, 27, 36, 38, 44, 46, 47, 48, 50]\n"
     ]
    }
   ],
   "source": [
    "def shell_sort2(alist):\n",
    "    '''希尔排序优化'''\n",
    "    n = len(alist)\n",
    "    gap = n // 2\n",
    "    while gap > 0:\n",
    "        for i in range(gap, n):\n",
    "            j = i\n",
    "            while j >= gap:\n",
    "                if alist[j - gap] > alist[j]:\n",
    "                    alist[j - gap], alist[j] = alist[j], alist[j - gap]\n",
    "                    j -= gap\n",
    "                else:     # 当前数字大于等于前一个步长位置的数字，则不再进行比较\n",
    "                    break\n",
    "        gap = gap // 2\n",
    "\n",
    "alist2 = [3, 44, 38, 5, 47, 15, 36, 26, 27, 2, 46, 4, 19, 50, 48]\n",
    "shell_sort(alist2)\n",
    "print(alist2)"
   ]
  },
  {
   "cell_type": "markdown",
   "metadata": {},
   "source": [
    "### 5. 快速排序"
   ]
  },
  {
   "cell_type": "code",
   "execution_count": 2,
   "metadata": {},
   "outputs": [
    {
     "name": "stdout",
     "output_type": "stream",
     "text": [
      "[2, 3, 4, 5, 15, 19, 26, 27, 36, 38, 44, 46, 47, 48, 50]\n"
     ]
    }
   ],
   "source": [
    "def quick_sort(alist, start, end):\n",
    "    '''快速排序'''\n",
    "    if start >= end:      \n",
    "        return\n",
    "\n",
    "    mid_value = alist[start]     # 将序列第一个值设为比较值（中间值）\n",
    "    low, high= start, end\n",
    "\n",
    "    while low < high:                                   # 序列两端指针遍历，直至相遇\n",
    "        \n",
    "        while low < high and alist[high] >= mid_value:  # 从后往前找比中间值小的数字\n",
    "            high -= 1\n",
    "        alist[low] = alist[high]                        # 将该数字放置 low 位置\n",
    "\n",
    "        while low < high and alist[low] < mid_value:    # 从前往后找比中间值大或相等的数字\n",
    "            low += 1 \n",
    "        alist[high] = alist[low]                        # 将该数字放置 high 位置\n",
    "        \n",
    "    alist[low] = mid_value                              # 此时序列 low 位置左边全为比中间值小的值，右边全为比中间值大的值，low 位置即为该数字排序后的正确位置\n",
    "\n",
    "    quick_sort(alist, start, low-1)   # 递归左序列\n",
    "    quick_sort(alist, low+1, end)     # 递归右序列\n",
    "\n",
    "alist = [3, 44, 38, 5, 47, 15, 36, 26, 27, 2, 46, 4, 19, 50, 48]\n",
    "quick_sort(alist, 0, len(alist)-1)\n",
    "print(alist)"
   ]
  },
  {
   "cell_type": "markdown",
   "metadata": {},
   "source": [
    "### 6. 归并排序"
   ]
  },
  {
   "cell_type": "code",
   "execution_count": 6,
   "metadata": {},
   "outputs": [
    {
     "name": "stdout",
     "output_type": "stream",
     "text": [
      "[2, 3, 4, 5, 15, 19, 26, 27, 36, 38, 44, 46, 47, 48, 50]\n"
     ]
    }
   ],
   "source": [
    "def merge_sort(alist):\n",
    "    '''归并排序'''\n",
    "    n = len(alist)\n",
    "    if n <= 1:\n",
    "        return alist\n",
    "    \n",
    "    mid = n // 2        # 二分\n",
    "    left = merge_sort(alist[:mid])\n",
    "    right = merge_sort(alist[mid:])\n",
    "    return merge(left, right)\n",
    "\n",
    "def merge(left, right):\n",
    "    '''合并操作，将有序数组 left[] 和 right[] 合并成一个大的有序数组'''\n",
    "    l, r = 0, 0     # left 与 right 的下标指针\n",
    "    result = []\n",
    "    while l < len(left) and r < len(right):\n",
    "        if left[l] <= right[r]:\n",
    "            result.append(left[l])\n",
    "            l += 1\n",
    "        else:\n",
    "            result.append(right[r])\n",
    "            r += 1\n",
    "    result += left[l:]\n",
    "    result += right[r:]\n",
    "    return result\n",
    "\n",
    "alist = [3, 44, 38, 5, 47, 15, 36, 26, 27, 2, 46, 4, 19, 50, 48]\n",
    "merge_sort(alist)\n",
    "print(alist2)"
   ]
  },
  {
   "cell_type": "markdown",
   "metadata": {},
   "source": [
    "### 7. 堆排序"
   ]
  },
  {
   "cell_type": "code",
   "execution_count": 50,
   "metadata": {},
   "outputs": [],
   "source": [
    "def heap_sort(nums):\n",
    "    n = len(nums)\n",
    "    # 构建大根堆\n",
    "    for i in range(n//2-1, -1, -1):         # 从底向上，从右往左\n",
    "        heap_adjust(nums, i, n-1)            # 调整（堆，父节点，堆尾节点）\n",
    "        \n",
    "    # 输出大根堆（即升序）\n",
    "    for i in range(n-1, -1, -1):\n",
    "        nums[0], nums[i] = nums[i], nums[0]  # 交换堆顶与堆尾元素，交换后的堆尾元素即输出值\n",
    "        heap_adjust(nums, 0, i-1)            # 调整（堆，堆顶，新堆尾节点）\n",
    "        \n",
    "def heap_adjust(nums, father, end):\n",
    "    # 从上往下调整\n",
    "    child = father*2+1       # 初始孩子节点                        \n",
    "    while child <= end:\n",
    "        # 选择孩子节点中较大者\n",
    "        if child<end and nums[child+1]>nums[child]:\n",
    "            child += 1\n",
    "        # 若孩子节点大于父亲节点，则交换，更新孩子节点为新的父节点，寻找其新的孩子节点\n",
    "        # 否则跳出\n",
    "        if nums[child] > nums[father]:\n",
    "            nums[father], nums[child] = nums[child], nums[father]\n",
    "            father = child\n",
    "            child = father*2+1\n",
    "        else:\n",
    "            break"
   ]
  },
  {
   "cell_type": "code",
   "execution_count": 51,
   "metadata": {},
   "outputs": [
    {
     "data": {
      "text/plain": [
       "[2, 10, 16, 30, 50, 60, 70, 80, 90]"
      ]
     },
     "execution_count": 51,
     "metadata": {},
     "output_type": "execute_result"
    }
   ],
   "source": [
    "li = [50, 16, 30, 10, 60, 90, 2, 80, 70]\n",
    "heap_sort(li)\n",
    "li"
   ]
  },
  {
   "cell_type": "code",
   "execution_count": null,
   "metadata": {},
   "outputs": [],
   "source": []
  },
  {
   "cell_type": "markdown",
   "metadata": {},
   "source": [
    "### 其余"
   ]
  },
  {
   "cell_type": "markdown",
   "metadata": {},
   "source": [
    "#### collections 库中的 deque（双端队列）\n",
    "* d = collections.deque([])\n",
    "* d.append()，队列右端添加元素\n",
    "* d.appendnd(left)，队列左端添加元素\n",
    "* d.extend()，队列右端添加所有元素\n",
    "* d.extendleft()，队列左端添加所有元素\n",
    "* d.pop()，取出队列右端的元素\n",
    "* d.popleft()，取出队列左端的元素\n",
    "* d.rotate(move)，队列向右端旋转 move 个位置（move：整数值，可为负）\n",
    "* d.count(value)，队列中 value 的个数\n",
    "* d.remove(value)，从队列中删除 value\n",
    "* d.reverse()，将队列倒序"
   ]
  },
  {
   "cell_type": "markdown",
   "metadata": {},
   "source": [
    "#### 打印堆排序中的树结构"
   ]
  },
  {
   "cell_type": "code",
   "execution_count": 53,
   "metadata": {},
   "outputs": [],
   "source": [
    "import math\n",
    "def print_tree(array): #打印堆排序使用\n",
    "    '''\n",
    "    深度 前空格 元素间空格\n",
    "    1     7       0\n",
    "    2     3       7\n",
    "    3     1       3\n",
    "    4     0       1\n",
    "    '''\n",
    "    index = 0\n",
    "    depth = math.ceil(math.log2(len(array)+1)) \n",
    "    sep = '  '\n",
    "    for i in range(depth):\n",
    "        offset = 2 ** i\n",
    "        print(sep * (2 ** (depth - i - 1) - 1), end='')\n",
    "        line = array[index:index + offset]\n",
    "        for j, x in enumerate(line):\n",
    "            print(\"{:>{}}\".format(x, len(sep)), end='')\n",
    "            interval = 0 if i == 0 else 2 ** (depth - i) - 1\n",
    "            if j < len(line) - 1:\n",
    "                print(sep * interval, end='')\n",
    "        index += offset\n",
    "        print()"
   ]
  },
  {
   "cell_type": "code",
   "execution_count": null,
   "metadata": {},
   "outputs": [],
   "source": []
  }
 ],
 "metadata": {
  "kernelspec": {
   "display_name": "Python 3",
   "language": "python",
   "name": "python3"
  },
  "language_info": {
   "codemirror_mode": {
    "name": "ipython",
    "version": 3
   },
   "file_extension": ".py",
   "mimetype": "text/x-python",
   "name": "python",
   "nbconvert_exporter": "python",
   "pygments_lexer": "ipython3",
   "version": "3.7.0"
  }
 },
 "nbformat": 4,
 "nbformat_minor": 2
}
