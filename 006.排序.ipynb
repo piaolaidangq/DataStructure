{
 "cells": [
  {
   "cell_type": "markdown",
   "metadata": {},
   "source": [
    "### 1. 冒泡排序"
   ]
  },
  {
   "cell_type": "code",
   "execution_count": 9,
   "metadata": {},
   "outputs": [
    {
     "name": "stdout",
     "output_type": "stream",
     "text": [
      "[17, 20, 26, 31, 44, 54, 55, 77, 93]\n"
     ]
    }
   ],
   "source": [
    "def bubble_sort(alist):\n",
    "    '''冒泡排序'''\n",
    "    for i in range(len(alist)-1, 0, -1):\n",
    "        # i表示每次遍历需要比较的次数，是逐渐减小的\n",
    "        for j in range(i):\n",
    "            if alist[j] > alist[j + 1]:\n",
    "                alist[j], alist[j + 1] = alist[j + 1], alist[j]\n",
    "        \n",
    "alist = [54, 26, 93, 17, 77, 31, 44, 55, 20]\n",
    "bubble_sort(alist)\n",
    "print(alist)"
   ]
  },
  {
   "cell_type": "code",
   "execution_count": 10,
   "metadata": {},
   "outputs": [
    {
     "name": "stdout",
     "output_type": "stream",
     "text": [
      "[17, 20, 26, 31, 44, 54, 55, 77, 93]\n"
     ]
    }
   ],
   "source": [
    "def bubble_sort2(alist):\n",
    "    '''冒泡排序优化'''\n",
    "    for i in range(len(alist)-1, 0, -1):\n",
    "        count = 0        # 记录交换次数，用于优化\n",
    "        for j in range(i):\n",
    "            if alist[j] > alist[j + 1]:\n",
    "                alist[j], alist[j + 1] = alist[j + 1], alist[j]\n",
    "                count += 1\n",
    "        if count == 0:   # 若某次遍历中无交换，则不用再比较\n",
    "            return\n",
    "        \n",
    "alist2 = [54, 26, 93, 17, 77, 31, 44, 55, 20]\n",
    "bubble_sort2(alist2)\n",
    "print(alist2)"
   ]
  },
  {
   "cell_type": "markdown",
   "metadata": {},
   "source": [
    "### 2. 选择排序"
   ]
  },
  {
   "cell_type": "code",
   "execution_count": 2,
   "metadata": {},
   "outputs": [
    {
     "name": "stdout",
     "output_type": "stream",
     "text": [
      "[17, 20, 31, 44, 54, 55, 77, 93, 226]\n"
     ]
    }
   ],
   "source": [
    "def selection_sort(alist):\n",
    "    '''选择排序'''\n",
    "    n = len(alist)\n",
    "    # 需要进行n-1次选择操作\n",
    "    for i in range(n-1):\n",
    "        # 记录最小位置\n",
    "        min_index = i\n",
    "        # 从i+1位置到末尾选择出最小数据\n",
    "        for j in range(i + 1, n):\n",
    "            for j in range(i + 1, n):\n",
    "                if alist[j] < alist[min_index]:\n",
    "                    min_index = j\n",
    "        # 如果选择出的数据不在正确位置，进行交换\n",
    "        if min_index != i:\n",
    "            alist[i], alist[min_index] = alist[min_index], alist[i]\n",
    "\n",
    "alist = [54,226,93,17,77,31,44,55,20]\n",
    "selection_sort(alist)\n",
    "print(alist)"
   ]
  },
  {
   "cell_type": "markdown",
   "metadata": {},
   "source": [
    "### 3. 插入排序"
   ]
  },
  {
   "cell_type": "code",
   "execution_count": 6,
   "metadata": {},
   "outputs": [
    {
     "name": "stdout",
     "output_type": "stream",
     "text": [
      "[17, 20, 26, 44, 54, 55, 77, 93]\n"
     ]
    }
   ],
   "source": [
    "def insert_sort(alist):\n",
    "    '''插入排序'''\n",
    "    # 从第二个位置，即下标为1的元素开始向前插入\n",
    "    for i in range(1, len(alist)):\n",
    "        # 从第i个元素开始向前比较，如果小于前一个元素，交换位置\n",
    "        for j in range(i, 0, -1):\n",
    "            if alist[j] < alist[j - 1]:\n",
    "                alist[j], alist[j - 1] = alist[j - 1], alist[j]\n",
    "\n",
    "alist = [54, 26, 93, 17, 77, 44, 55, 20]\n",
    "insert_sort(alist)\n",
    "print(alist)"
   ]
  },
  {
   "cell_type": "code",
   "execution_count": 8,
   "metadata": {},
   "outputs": [
    {
     "name": "stdout",
     "output_type": "stream",
     "text": [
      "[17, 20, 26, 44, 54, 55, 77, 93]\n"
     ]
    }
   ],
   "source": [
    "def insert_sort2(alist):\n",
    "    '''插入排序优化'''\n",
    "    for i in range(1, len(alist)):\n",
    "        for j in range(i, 0, -1):\n",
    "            if alist[j] < alist[j - 1]:\n",
    "                alist[j], alist[j - 1] = alist[j - 1], alist[j]\n",
    "            else:       # 当前数字大于等于前一个数字，则不再进行比较\n",
    "                break\n",
    "\n",
    "alist2 = [54, 26, 93, 17, 77, 44, 55, 20]\n",
    "insert_sort(alist2)\n",
    "print(alist2)"
   ]
  },
  {
   "cell_type": "markdown",
   "metadata": {},
   "source": [
    "### 4. 希尔排序"
   ]
  },
  {
   "cell_type": "code",
   "execution_count": 11,
   "metadata": {},
   "outputs": [
    {
     "name": "stdout",
     "output_type": "stream",
     "text": [
      "[17, 20, 26, 44, 54, 55, 77, 93]\n"
     ]
    }
   ],
   "source": [
    "def shell_sort(alist):\n",
    "    '''希尔排序'''\n",
    "    n = len(alist)\n",
    "    gap = n // 2          # 初始步长\n",
    "    while gap > 0:       # 按步长进行插入排序\n",
    "        for i in range(gap, n):\n",
    "            j = i\n",
    "            while j >= gap and alist[j-gap] > alist[j]:          # 插入排序\n",
    "                alist[j - gap], alist[j] = alist[j], alist[j-gap]\n",
    "                j -= gap\n",
    "        gap = gap // 2    # 更新步长\n",
    "\n",
    "alist = [54, 26, 93, 17, 77, 44, 55, 20]\n",
    "shell_sort(alist)\n",
    "print(alist)"
   ]
  },
  {
   "cell_type": "code",
   "execution_count": 13,
   "metadata": {},
   "outputs": [
    {
     "name": "stdout",
     "output_type": "stream",
     "text": [
      "[17, 20, 26, 44, 54, 55, 77, 93]\n"
     ]
    }
   ],
   "source": [
    "def shell_sort2(alist):\n",
    "    '''希尔排序优化'''\n",
    "    n = len(alist)\n",
    "    gap = n // 2\n",
    "    while gap > 0:\n",
    "        for i in range(gap, n):\n",
    "            j = i\n",
    "            while j >= gap:\n",
    "                if alist[j - gap] > alist[j]:\n",
    "                    alist[j - gap], alist[j] = alist[j], alist[j - gap]\n",
    "                    j -= gap\n",
    "                else:     # 当前数字大于等于前一个步长位置的数字，则不再进行比较\n",
    "                    break\n",
    "        gap = gap // 2\n",
    "\n",
    "alist2 = [54, 26, 93, 17, 77, 44, 55, 20]\n",
    "shell_sort(alist2)\n",
    "print(alist2)"
   ]
  },
  {
   "cell_type": "markdown",
   "metadata": {},
   "source": [
    "### 5. 快速排序"
   ]
  },
  {
   "cell_type": "code",
   "execution_count": 14,
   "metadata": {},
   "outputs": [
    {
     "name": "stdout",
     "output_type": "stream",
     "text": [
      "[17, 20, 26, 44, 54, 55, 77, 93]\n"
     ]
    }
   ],
   "source": [
    "def quick_sort(alist, start, end):\n",
    "    '''快速排序'''\n",
    "    if start >= end:      # 递归退出条件\n",
    "        return\n",
    "\n",
    "    mid_value = alist[start]\n",
    "    low = start\n",
    "    high = end\n",
    "\n",
    "    while low < high:\n",
    "        while low < high and alist[high] >= mid_value:\n",
    "            high -= 1\n",
    "        alist[low] = alist[high]\n",
    "\n",
    "        while low < high and alist[low] < mid_value:\n",
    "            low += 1\n",
    "        alist[high] = alist[low]\n",
    "    alist[low] = mid_value\n",
    "\n",
    "    quick_sort(alist, start, low-1)\n",
    "    quick_sort(alist, low+1, end)\n",
    "\n",
    "alist = [54, 26, 93, 17, 77, 44, 55, 20]\n",
    "quick_sort(alist, 0, len(alist)-1)\n",
    "print(alist)"
   ]
  },
  {
   "cell_type": "markdown",
   "metadata": {},
   "source": [
    "### 6. 归并排序"
   ]
  },
  {
   "cell_type": "code",
   "execution_count": 16,
   "metadata": {},
   "outputs": [
    {
     "name": "stdout",
     "output_type": "stream",
     "text": [
      "[17, 20, 26, 44, 54, 55, 77, 93]\n"
     ]
    }
   ],
   "source": [
    "def merge_sort(alist):\n",
    "    '''归并排序'''\n",
    "    n = len(alist)\n",
    "    if n <= 1:\n",
    "        return alist\n",
    "    \n",
    "    mid = n // 2        # 二分\n",
    "    left = merge_sort(alist[:mid])\n",
    "    right = merge_sort(alist[mid:])\n",
    "    return merge(left, right)\n",
    "\n",
    "def merge(left, right):\n",
    "    '''合并操作，将有序数组 left[] 和 right[] 合并成一个大的有序数组'''\n",
    "    l, r = 0, 0     # left 与 right 的下标指针\n",
    "    result = []\n",
    "    while l < len(left) and r < len(right):\n",
    "        if left[l] <= right[r]:\n",
    "            result.append(left[l])\n",
    "            l += 1\n",
    "        else:\n",
    "            result.append(right[r])\n",
    "            r += 1\n",
    "    result += left[l:]\n",
    "    result += right[r:]\n",
    "    return result\n",
    "\n",
    "alist = [54, 26, 93, 17, 77, 44, 55, 20]\n",
    "alist2 = merge_sort(alist)\n",
    "print(alist2)"
   ]
  },
  {
   "cell_type": "code",
   "execution_count": null,
   "metadata": {},
   "outputs": [],
   "source": []
  }
 ],
 "metadata": {
  "kernelspec": {
   "display_name": "Python 3",
   "language": "python",
   "name": "python3"
  },
  "language_info": {
   "codemirror_mode": {
    "name": "ipython",
    "version": 3
   },
   "file_extension": ".py",
   "mimetype": "text/x-python",
   "name": "python",
   "nbconvert_exporter": "python",
   "pygments_lexer": "ipython3",
   "version": "3.7.0"
  }
 },
 "nbformat": 4,
 "nbformat_minor": 2
}
