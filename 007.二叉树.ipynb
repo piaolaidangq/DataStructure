{
 "cells": [
  {
   "cell_type": "code",
   "execution_count": 1,
   "metadata": {},
   "outputs": [],
   "source": [
    "class Node:\n",
    "    def __init__(self, elem=None, lchild=None, rchild=None):\n",
    "        '''节点'''\n",
    "        self.elem = elem\n",
    "        self.lchild = lchild\n",
    "        self.rchild = rchild\n",
    "\n",
    "class BinaryTree:\n",
    "    '''二叉树'''\n",
    "    def __init__(self):\n",
    "        self.root = None\n",
    "\n",
    "    def add(self, elem):\n",
    "        '''添加节点'''\n",
    "        node = Node(elem)\n",
    "        if self.root is None:        # 若树为空，则对根节点赋值\n",
    "            self.root = node\n",
    "        else:\n",
    "            queue = []\n",
    "            queue.append(self.root)\n",
    "            while queue:             # 层次遍历\n",
    "                cur = queue.pop(0)   # 弹出队列的第一个节点\n",
    "                if cur.lchild is None:\n",
    "                    cur.lchild = node\n",
    "                    return\n",
    "                elif cur.rchild is None:\n",
    "                    cur.rchild = node\n",
    "                    return\n",
    "                else:                # 若左右子树都不为空，则入队\n",
    "                    queue.append(cur.lchild)\n",
    "                    queue.append(cur.rchild)\n",
    "\n",
    "    def breadth_travel(self):\n",
    "        '''广度优先遍历、层次遍历（队列）'''\n",
    "        if self.root is None:\n",
    "            return\n",
    "        queue = [self.root]\n",
    "        while queue:\n",
    "            cur_node = queue.pop(0)\n",
    "            print(cur_node.elem, end=' ')\n",
    "            if cur_node.lchild is not None:\n",
    "                queue.append(cur_node.lchild)\n",
    "            if cur_node.rchild is not None:\n",
    "                queue.append(cur_node.rchild)\n",
    "    \n",
    "    def depth_travel(self):\n",
    "        '''深度优先遍历、前序遍历（栈）'''\n",
    "        if self.root is None:\n",
    "            return \n",
    "        stack = [self.root]\n",
    "        while stack:\n",
    "            cur_node = stack.pop()\n",
    "            print(cur_node.elem, end=' ')\n",
    "            if cur_node.rchild is not None:\n",
    "                stack.append(cur_node.rchild) \n",
    "            if cur_node.lchild is not None:\n",
    "                stack.append(cur_node.lchild)\n",
    "\n",
    "    def pre_order(self, node):\n",
    "        '''前序遍历、深度优先遍历（递归）'''\n",
    "        if node is None:\n",
    "            return\n",
    "        print(node.elem, end=' ')\n",
    "        self.pre_order(node.lchild)\n",
    "        self.pre_order(node.rchild)\n",
    "\n",
    "    def in_order(self, node):\n",
    "        '''中序遍历（递归）'''\n",
    "        if node is None:\n",
    "            return\n",
    "        self.in_order(node.lchild)\n",
    "        print(node.elem, end=' ')\n",
    "        self.in_order(node.rchild)\n",
    "\n",
    "    def post_order(self, node):\n",
    "        '''后序遍历（递归）'''\n",
    "        if node is None:\n",
    "            return\n",
    "        self.post_order(node.lchild)\n",
    "        self.post_order(node.rchild)\n",
    "        print(node.elem, end=' ')"
   ]
  },
  {
   "cell_type": "code",
   "execution_count": 2,
   "metadata": {},
   "outputs": [],
   "source": [
    "bt = BinaryTree()    # 创建二叉树\n",
    "bt.add(0)            # 添加节点\n",
    "bt.add(1)\n",
    "bt.add(2)\n",
    "bt.add(3)\n",
    "bt.add(4)\n",
    "bt.add(5)\n",
    "bt.add(6)\n",
    "bt.add(7)\n",
    "bt.add(8)\n",
    "bt.add(9)"
   ]
  },
  {
   "cell_type": "code",
   "execution_count": 3,
   "metadata": {},
   "outputs": [
    {
     "name": "stdout",
     "output_type": "stream",
     "text": [
      "0 1 2 3 4 5 6 7 8 9 "
     ]
    }
   ],
   "source": [
    "bt.breadth_travel()          # 广度优先遍历、层次遍历（队列）"
   ]
  },
  {
   "cell_type": "code",
   "execution_count": 4,
   "metadata": {},
   "outputs": [
    {
     "name": "stdout",
     "output_type": "stream",
     "text": [
      "0 1 3 7 8 4 9 2 5 6 "
     ]
    }
   ],
   "source": [
    "bt.depth_travel()            # 深度优先遍历、前序遍历（栈）"
   ]
  },
  {
   "cell_type": "code",
   "execution_count": 5,
   "metadata": {},
   "outputs": [
    {
     "name": "stdout",
     "output_type": "stream",
     "text": [
      "0 1 3 7 8 4 9 2 5 6 "
     ]
    }
   ],
   "source": [
    "bt.pre_order(bt.root)        # 前序遍历、深度优先搜索（递归）"
   ]
  },
  {
   "cell_type": "code",
   "execution_count": 6,
   "metadata": {},
   "outputs": [
    {
     "name": "stdout",
     "output_type": "stream",
     "text": [
      "7 3 8 1 9 4 0 5 2 6 "
     ]
    }
   ],
   "source": [
    "bt.in_order(bt.root)         # 中序遍历（递归）"
   ]
  },
  {
   "cell_type": "code",
   "execution_count": 7,
   "metadata": {},
   "outputs": [
    {
     "name": "stdout",
     "output_type": "stream",
     "text": [
      "7 8 3 9 4 1 5 6 2 0 "
     ]
    }
   ],
   "source": [
    "bt.post_order(bt.root)       # 后序遍历（递归）"
   ]
  },
  {
   "cell_type": "code",
   "execution_count": null,
   "metadata": {},
   "outputs": [],
   "source": []
  }
 ],
 "metadata": {
  "kernelspec": {
   "display_name": "Python 3",
   "language": "python",
   "name": "python3"
  },
  "language_info": {
   "codemirror_mode": {
    "name": "ipython",
    "version": 3
   },
   "file_extension": ".py",
   "mimetype": "text/x-python",
   "name": "python",
   "nbconvert_exporter": "python",
   "pygments_lexer": "ipython3",
   "version": "3.7.0"
  }
 },
 "nbformat": 4,
 "nbformat_minor": 2
}
